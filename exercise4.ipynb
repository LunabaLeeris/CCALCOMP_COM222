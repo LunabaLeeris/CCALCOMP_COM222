{
  "cells": [
    {
      "cell_type": "markdown",
      "metadata": {
        "id": "view-in-github",
        "colab_type": "text"
      },
      "source": [
        "<a href=\"https://colab.research.google.com/github/LunabaLeeris/CCALCOMP_COM222/blob/main/exercise4.ipynb\" target=\"_parent\"><img src=\"https://colab.research.google.com/assets/colab-badge.svg\" alt=\"Open In Colab\"/></a>"
      ]
    },
    {
      "cell_type": "markdown",
      "metadata": {
        "id": "cPRRjBOhHHMh"
      },
      "source": [
        "# Exercise 4\n",
        "\n",
        "Please follow the instructions in each number."
      ]
    },
    {
      "cell_type": "markdown",
      "metadata": {
        "id": "zvDTNWRFHHMk"
      },
      "source": [
        "### Activity Selection Problem\n",
        "\n",
        "Given a set of activities, along with the starting and finishing time of each activity, find the maximum number of activities performed by a single person assuming that a person can only work on a single activity at a time.\n",
        "\n",
        "For example,\n",
        "\n",
        "Input: Following set of activities (1, 4), (3, 5), (0, 6), (5, 7), (3, 8), (5, 9), (6, 10), (8, 11), (8, 12), (2, 13), (12, 14)  \n",
        "\n",
        "Output: (1, 4), (5, 7), (8, 11), (12, 14)"
      ]
    },
    {
      "cell_type": "markdown",
      "metadata": {
        "id": "0QLHdoNSHHMl"
      },
      "source": [
        "1. Write a program using a recursive greedy approach to get the maximum number of activities (`50 points`)"
      ]
    },
    {
      "cell_type": "code",
      "execution_count": 6,
      "metadata": {
        "vscode": {
          "languageId": "plaintext"
        },
        "id": "Xe02cHvAHHMl",
        "outputId": "7a288a84-5383-4ac2-ad91-3d4b7220cd04",
        "colab": {
          "base_uri": "https://localhost:8080/"
        }
      },
      "outputs": [
        {
          "output_type": "stream",
          "name": "stdout",
          "text": [
            "[(1, 4), (5, 7), (8, 11), (12, 14)]\n"
          ]
        }
      ],
      "source": [
        "def get_max_activities_recurs(activities):\n",
        "    # Sort activities based on their finishing time\n",
        "    activities.sort(key=lambda x: x[1])\n",
        "\n",
        "    def recurs(activities, at, time_now):\n",
        "        if (at == len(activities)):\n",
        "            return []\n",
        "\n",
        "        current_act = activities[at]\n",
        "\n",
        "        if current_act[0] >= time_now:\n",
        "            return [current_act] + recurs(activities, at + 1, current_act[1])\n",
        "        else:\n",
        "            return recurs(activities, at + 1, time_now)\n",
        "\n",
        "    return recurs(activities, 0, 0)\n",
        "\n",
        "# Test case\n",
        "activities = [\n",
        "    (1, 4), (3, 5), (0, 6), (5, 7), (3, 8),\n",
        "    (5, 9), (6, 10), (8, 11), (8, 12), (2, 13), (12, 14)\n",
        "]\n",
        "\n",
        "print(get_max_activities_recurs(activities))"
      ]
    },
    {
      "cell_type": "markdown",
      "metadata": {
        "id": "eZe27u4LHHMn"
      },
      "source": [
        "2. Write a program using a iterative greedy approach to get the maximun number of activities (`50 points`)"
      ]
    },
    {
      "cell_type": "code",
      "execution_count": 8,
      "metadata": {
        "vscode": {
          "languageId": "plaintext"
        },
        "id": "UrSZyQwEHHMn",
        "outputId": "26c2c0f0-c7cd-4cd4-db66-0d38a7bc86a7",
        "colab": {
          "base_uri": "https://localhost:8080/"
        }
      },
      "outputs": [
        {
          "output_type": "stream",
          "name": "stdout",
          "text": [
            "[(1, 4), (5, 7), (8, 11), (12, 14)]\n"
          ]
        }
      ],
      "source": [
        "# put your answer here\n",
        "def get_max_activities_itr(activities):\n",
        "    # Sort activities based on their finishing time\n",
        "    activities.sort(key=lambda x: x[1])\n",
        "\n",
        "    output = []\n",
        "    time_now = 0\n",
        "\n",
        "    for activity in activities:\n",
        "      if (activity[0] >= time_now):\n",
        "        output.append(activity)\n",
        "        time_now = activity[1]\n",
        "\n",
        "    return output\n",
        "\n",
        "# Test case\n",
        "activities = [\n",
        "    (1, 4), (3, 5), (0, 6), (5, 7), (3, 8),\n",
        "    (5, 9), (6, 10), (8, 11), (8, 12), (2, 13), (12, 14)\n",
        "]\n",
        "\n",
        "print(get_max_activities_itr(activities))"
      ]
    }
  ],
  "metadata": {
    "colab": {
      "provenance": [],
      "include_colab_link": true
    },
    "kernelspec": {
      "display_name": "base",
      "language": "python",
      "name": "python3"
    },
    "language_info": {
      "codemirror_mode": {
        "name": "ipython",
        "version": 3
      },
      "file_extension": ".py",
      "mimetype": "text/x-python",
      "name": "python",
      "nbconvert_exporter": "python",
      "pygments_lexer": "ipython3",
      "version": "3.9.6"
    }
  },
  "nbformat": 4,
  "nbformat_minor": 0
}