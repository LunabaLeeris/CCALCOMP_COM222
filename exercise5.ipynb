{
  "cells": [
    {
      "cell_type": "markdown",
      "metadata": {
        "id": "view-in-github",
        "colab_type": "text"
      },
      "source": [
        "<a href=\"https://colab.research.google.com/github/LunabaLeeris/CCALCOMP_COM222/blob/main/exercise5.ipynb\" target=\"_parent\"><img src=\"https://colab.research.google.com/assets/colab-badge.svg\" alt=\"Open In Colab\"/></a>"
      ]
    },
    {
      "cell_type": "markdown",
      "metadata": {
        "id": "-8bYOEC8HOQ4"
      },
      "source": [
        "# Exercise 5\n",
        "\n",
        "Please follow the instructions in each number."
      ]
    },
    {
      "cell_type": "markdown",
      "metadata": {
        "id": "FEPXLUAPHOQ6"
      },
      "source": [
        "### Maximum Subarray\n",
        "Given an array of integers nums, find the subarray with the largest sum and return the sum.\n",
        "\n",
        "A subarray is a contiguous non-empty sequence of elements within an array.\n",
        "\n",
        "\n",
        "\n",
        "Example 1:\n",
        "\n",
        "Input: nums = [2,-3,4,-2,2,1,-1,4]\n",
        "\n",
        "Output: 8\n",
        "\n",
        "Explanation: The subarray [4,-2,2,1,-1,4] has the largest sum 8."
      ]
    },
    {
      "cell_type": "markdown",
      "metadata": {
        "id": "D4a-4yS4HOQ7"
      },
      "source": [
        "## Tasks"
      ]
    },
    {
      "cell_type": "markdown",
      "metadata": {
        "id": "v8mlE6kYHOQ7"
      },
      "source": [
        "1. Put your student number in a list and manually compute the maximum subarray in your student number (`10 points`)"
      ]
    },
    {
      "cell_type": "code",
      "execution_count": 36,
      "metadata": {
        "vscode": {
          "languageId": "plaintext"
        },
        "id": "YJMIVpuTHOQ8",
        "outputId": "0ce5d008-a580-475b-f75a-b508f04776b4",
        "colab": {
          "base_uri": "https://localhost:8080/"
        }
      },
      "outputs": [
        {
          "output_type": "stream",
          "name": "stdout",
          "text": [
            "arr:  [2, 0, 2, 2, 1, 0, 8, 0, 1, 3]\n",
            "sum:  19\n"
          ]
        }
      ],
      "source": [
        "# Because my student number is all positive, the max sub array will be the entire array. Thus\n",
        "max_arr = [2, 0, 2, 2, 1, 0, 8, 0, 1, 3]\n",
        "max_sum = 19\n",
        "\n",
        "# test\n",
        "print(\"arr: \", max_arr)\n",
        "print(\"sum: \", max_sum)"
      ]
    },
    {
      "cell_type": "markdown",
      "metadata": {
        "id": "nchQgI2KHOQ8"
      },
      "source": [
        "2. Write a program using a brute-force approach to get the maximum-subarray of your student number (`40 points`)"
      ]
    },
    {
      "cell_type": "code",
      "execution_count": 37,
      "metadata": {
        "vscode": {
          "languageId": "plaintext"
        },
        "id": "b9P6oe11HOQ9",
        "outputId": "06bda522-d662-4667-9eaa-da917a276d78",
        "colab": {
          "base_uri": "https://localhost:8080/"
        }
      },
      "outputs": [
        {
          "output_type": "stream",
          "name": "stdout",
          "text": [
            "arr:  [2, 0, 2, 2, 1, 0, 8, 0, 1, 3]\n",
            "sum:  19\n"
          ]
        }
      ],
      "source": [
        "# put your answer here\n",
        "import copy\n",
        "\n",
        "# put your answer here\n",
        "def find_largest_br(arr):\n",
        "  n = len(arr)\n",
        "  # start and end of the best subarray and its max sum\n",
        "  start, end, max = 0, 0, 0\n",
        "\n",
        "  # perform trial and move on approach\n",
        "  for i in range(n):\n",
        "    sum = 0\n",
        "    for j in range(i, n):\n",
        "      sum += arr[j]\n",
        "\n",
        "      if sum > max:\n",
        "        start = i\n",
        "        end = j\n",
        "        max = sum\n",
        "\n",
        "  return [arr[start:end + 1], max]# the array and its sum\n",
        "\n",
        "# test case\n",
        "res = find_largest_br([2,0,2,2,1,0,8,0,1,3])\n",
        "print(\"arr: \", res[0])\n",
        "print(\"sum: \", res[1])"
      ]
    },
    {
      "cell_type": "markdown",
      "metadata": {
        "id": "NkqAxIx_HOQ9"
      },
      "source": [
        "3. Write a program using a dynamic programming to get the maximum-subarray of your student number (`50 points`)"
      ]
    },
    {
      "cell_type": "code",
      "execution_count": 38,
      "metadata": {
        "vscode": {
          "languageId": "plaintext"
        },
        "id": "BFBp2ARLHOQ9",
        "outputId": "00e9b18d-bfe4-4f14-d732-5305ed26e0c8",
        "colab": {
          "base_uri": "https://localhost:8080/"
        }
      },
      "outputs": [
        {
          "output_type": "stream",
          "name": "stdout",
          "text": [
            "arr:  [2, 0, 2, 2, 1, 0, 8, 0, 1, 3]\n",
            "sum:  19\n"
          ]
        }
      ],
      "source": [
        "# put your answer here\n",
        "import copy\n",
        "\n",
        "# put your answer here\n",
        "# we will perform a reverse DP approach\n",
        "def find_largest_dp(arr):\n",
        "  n = len(arr)\n",
        "  dp = [[0, 0]]*len(arr) # where dp[i][0] is the max sum of subarray starting at i and ending at dp[i][1]\n",
        "  max = n - 1 # idx of the max dp entry\n",
        "  dp[n - 1] = [arr[n - 1], n - 1] # initialize the last entry\n",
        "\n",
        "  for i in range(n - 2, -1, -1):\n",
        "    if (dp[i + 1][0] > 0):\n",
        "      dp[i] =  copy.deepcopy(dp[i + 1])\n",
        "      dp[i][0] += arr[i]\n",
        "    else:\n",
        "      dp[i] = [arr[i], i]\n",
        "\n",
        "    if dp[i][0] > dp[max][0]:\n",
        "      max = i\n",
        "\n",
        "  return [arr[max:dp[max][1] + 1], dp[max][0]] # the array and its sum\n",
        "\n",
        "# test case\n",
        "res = find_largest_dp([2,0,2,2,1,0,8,0,1,3])\n",
        "print(\"arr: \", res[0])\n",
        "print(\"sum: \", res[1])\n"
      ]
    }
  ],
  "metadata": {
    "colab": {
      "provenance": [],
      "include_colab_link": true
    },
    "kernelspec": {
      "display_name": "base",
      "language": "python",
      "name": "python3"
    },
    "language_info": {
      "codemirror_mode": {
        "name": "ipython",
        "version": 3
      },
      "file_extension": ".py",
      "mimetype": "text/x-python",
      "name": "python",
      "nbconvert_exporter": "python",
      "pygments_lexer": "ipython3",
      "version": "3.9.6"
    }
  },
  "nbformat": 4,
  "nbformat_minor": 0
}